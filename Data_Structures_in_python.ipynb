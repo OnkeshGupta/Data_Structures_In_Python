{
  "nbformat": 4,
  "nbformat_minor": 0,
  "metadata": {
    "colab": {
      "provenance": []
    },
    "kernelspec": {
      "name": "python3",
      "display_name": "Python 3"
    },
    "language_info": {
      "name": "python"
    }
  },
  "cells": [
    {
      "cell_type": "markdown",
      "source": [
        "Q1. Write a code to reverse a string"
      ],
      "metadata": {
        "id": "n5Ge6VFxvX99"
      }
    },
    {
      "cell_type": "code",
      "source": [
        "name = \"Onkesh\"\n",
        "print(\"Before reversing...\")\n",
        "print(name)\n",
        "name = name[::-1]\n",
        "print(\"After reversing...\")\n",
        "print(name)"
      ],
      "metadata": {
        "colab": {
          "base_uri": "https://localhost:8080/"
        },
        "id": "LMxWyv9cvcGW",
        "outputId": "2feb029f-9c97-440a-e72c-a2fcc2c1fc78"
      },
      "execution_count": null,
      "outputs": [
        {
          "output_type": "stream",
          "name": "stdout",
          "text": [
            "Before reversing...\n",
            "Onkesh\n",
            "After reversing...\n",
            "hseknO\n"
          ]
        }
      ]
    },
    {
      "cell_type": "markdown",
      "source": [
        "Q2. Write a code to count the number of vowels in a string"
      ],
      "metadata": {
        "id": "nQ_nAbkzxXKC"
      }
    },
    {
      "cell_type": "code",
      "source": [
        "str1 = \"flinvirrehfiorhreiepfoe\"\n",
        "cnt = 0\n",
        "for i in str1:\n",
        "  if(i == 'a' or i == 'e' or i == 'i' or i == 'o' or i == 'u'):\n",
        "    cnt += 1\n",
        "print(f\"There are {cnt} vowels in {str}\")"
      ],
      "metadata": {
        "colab": {
          "base_uri": "https://localhost:8080/"
        },
        "id": "uTQ-wxlUxY9u",
        "outputId": "b6e89e73-aa6f-48fe-e611-0a167fcd6f92"
      },
      "execution_count": null,
      "outputs": [
        {
          "output_type": "stream",
          "name": "stdout",
          "text": [
            "There are 10 vowels in <class 'str'>\n"
          ]
        }
      ]
    },
    {
      "cell_type": "markdown",
      "source": [
        "Q3. Write a code to check if a given string is a palindrome or not"
      ],
      "metadata": {
        "id": "CNQMs5Lux8xi"
      }
    },
    {
      "cell_type": "code",
      "source": [
        "str1 = \"abccba\"\n",
        "s = 0\n",
        "e = len(str1) - 1\n",
        "flag = True\n",
        "while(s <= e):\n",
        "  if(str1[s] != str1[e]):\n",
        "    flag = False\n",
        "    break\n",
        "  s += 1\n",
        "  e -= 1\n",
        "if(flag):\n",
        "  print(f\"{str1} is palindrome\")\n",
        "else :\n",
        "  print(f\"{str1} is not palindrome\")"
      ],
      "metadata": {
        "colab": {
          "base_uri": "https://localhost:8080/"
        },
        "id": "CAGp2CpbyApl",
        "outputId": "4d70a026-ee20-4051-874a-1e9f7cc644ff"
      },
      "execution_count": null,
      "outputs": [
        {
          "output_type": "stream",
          "name": "stdout",
          "text": [
            "abccba is palindrome\n"
          ]
        }
      ]
    },
    {
      "cell_type": "markdown",
      "source": [
        "Q4. Write a code to check if two given strings are anagrams of each other"
      ],
      "metadata": {
        "id": "dbXLXGsrzED-"
      }
    },
    {
      "cell_type": "code",
      "source": [
        "from collections import Counter\n",
        "str1 = \"below\"\n",
        "str2 = \"elbow\"\n",
        "if(Counter(str1) == Counter(str2)):\n",
        "  print(f\"{str1} and {str2} are anagrams\")\n",
        "else :\n",
        "  print(f\"{str1} and {str2} are not anagrams\")"
      ],
      "metadata": {
        "colab": {
          "base_uri": "https://localhost:8080/"
        },
        "id": "7o8VtYT4zI-T",
        "outputId": "6ca51d76-36bb-40d4-f691-80ee61d377f1"
      },
      "execution_count": null,
      "outputs": [
        {
          "output_type": "stream",
          "name": "stdout",
          "text": [
            "below and elbow are anagrams\n"
          ]
        }
      ]
    },
    {
      "cell_type": "markdown",
      "source": [
        "Q5. Write a code to find all occurrences of a given substring within another string"
      ],
      "metadata": {
        "id": "TtkbIHH-6Glh"
      }
    },
    {
      "cell_type": "code",
      "source": [
        "str1 = \"this is just a test to test your ability, test is important, test is test, test is everything, test\"\n",
        "str2 = \"test\"\n",
        "cnt = 0\n",
        "start = 0\n",
        "while True:\n",
        "  start = str1.find(str2, start)\n",
        "  if(start == -1):\n",
        "    break\n",
        "  cnt += 1\n",
        "  start += len(str2)\n",
        "\n",
        "print(f\"There are {cnt} occurences of {str2}\")"
      ],
      "metadata": {
        "colab": {
          "base_uri": "https://localhost:8080/"
        },
        "id": "bnzQ6vcJ6NyC",
        "outputId": "5f9b4e3f-efb2-452f-8c7a-0da8e95a5909"
      },
      "execution_count": null,
      "outputs": [
        {
          "output_type": "stream",
          "name": "stdout",
          "text": [
            "There are 7 occurences of test\n"
          ]
        }
      ]
    },
    {
      "cell_type": "markdown",
      "source": [
        "Q6. Write a code to perform basic string compression using the counts of repeated characters\n"
      ],
      "metadata": {
        "id": "zqJmoUgb-RR-"
      }
    },
    {
      "cell_type": "code",
      "source": [
        "str1 = \"aaabbbccccaaa\"\n",
        "str2 = \"\"\n",
        "print(\"Before compression...\")\n",
        "print(str1)\n",
        "occ = []\n",
        "cnt = 1\n",
        "for i in range(1, len(str1)):\n",
        "  if str1[i-1] == str1[i]:\n",
        "    cnt += 1\n",
        "  else :\n",
        "    occ.append(str1[i-1] + str(cnt))\n",
        "    cnt = 1\n",
        "\n",
        "occ.append(str1[i-1] + str(cnt))\n",
        "str2 = str2.join(occ)\n",
        "print(\"After compression...\")\n",
        "print(str2)"
      ],
      "metadata": {
        "colab": {
          "base_uri": "https://localhost:8080/"
        },
        "id": "Mf5UAIAbf39p",
        "outputId": "988c39b8-02f3-4071-c743-900b85026e49"
      },
      "execution_count": null,
      "outputs": [
        {
          "output_type": "stream",
          "name": "stdout",
          "text": [
            "Before compression...\n",
            "aaabbbccccaaa\n",
            "After compression...\n",
            "a3b3c4a3\n"
          ]
        }
      ]
    },
    {
      "cell_type": "markdown",
      "source": [
        "Q7. Write a code to determine if a string has all unique characters"
      ],
      "metadata": {
        "id": "PUe-A_rLqM10"
      }
    },
    {
      "cell_type": "code",
      "source": [
        "str1 = \"abcde\"\n",
        "flag = True\n",
        "x = Counter(str1)\n",
        "for i in x.values():\n",
        "  if(i > 1):\n",
        "    flag = False\n",
        "    break\n",
        "if(flag):\n",
        "  print(f\"{str1} has unique characters\")\n",
        "else :\n",
        "  print(f\"{str1} has no unique characters\")"
      ],
      "metadata": {
        "colab": {
          "base_uri": "https://localhost:8080/"
        },
        "id": "1LoWHAqnqNCL",
        "outputId": "d1aaaf04-dca8-44d6-c696-5a7de96ec881"
      },
      "execution_count": null,
      "outputs": [
        {
          "output_type": "stream",
          "name": "stdout",
          "text": [
            "abcde has unique characters\n"
          ]
        }
      ]
    },
    {
      "cell_type": "markdown",
      "source": [
        "Q8. Write a code to convert a given string to uppercase or lowercase"
      ],
      "metadata": {
        "id": "KFvYVKY0rCsZ"
      }
    },
    {
      "cell_type": "code",
      "source": [
        "str1 = \"AbCdE\"\n",
        "print(f\"{str1} in lowercase...\")\n",
        "str1 = str1.lower()\n",
        "print(str1)\n",
        "print(f\"{str1} in uppercase...\")\n",
        "str1 = str1.upper()\n",
        "print(str1)"
      ],
      "metadata": {
        "colab": {
          "base_uri": "https://localhost:8080/"
        },
        "id": "sDnorwIvrEr2",
        "outputId": "c3aa853b-6089-470b-be77-c06b67a805d9"
      },
      "execution_count": null,
      "outputs": [
        {
          "output_type": "stream",
          "name": "stdout",
          "text": [
            "AbCdE in lowercase...\n",
            "abcde\n",
            "abcde in uppercase...\n",
            "ABCDE\n"
          ]
        }
      ]
    },
    {
      "cell_type": "markdown",
      "source": [
        "Q9. Write a code to count the number of words in a string"
      ],
      "metadata": {
        "id": "O9xlzi-HrwW3"
      }
    },
    {
      "cell_type": "code",
      "source": [
        "str1 = \"   This string has extra spaces.  \"\n",
        "str1 = str1.lstrip()\n",
        "str1 = str1.rstrip()\n",
        "print(f\"There are {len(str1.split(' '))} words in the string\")"
      ],
      "metadata": {
        "colab": {
          "base_uri": "https://localhost:8080/"
        },
        "id": "hy_5tQOHrx-m",
        "outputId": "835037df-da9d-4315-ca4f-dcee968ea743"
      },
      "execution_count": null,
      "outputs": [
        {
          "output_type": "stream",
          "name": "stdout",
          "text": [
            "There are 5 words in the string\n"
          ]
        }
      ]
    },
    {
      "cell_type": "markdown",
      "source": [
        "Q10. Write a code to concatenate two strings without using the + operator"
      ],
      "metadata": {
        "id": "skaXSwBjtLxT"
      }
    },
    {
      "cell_type": "code",
      "source": [
        "str1 = \"abc\"\n",
        "str2 = \"def\"\n",
        "str3 = \"\"\n",
        "str3 = str3.join([str1, str2])\n",
        "print(str3)"
      ],
      "metadata": {
        "colab": {
          "base_uri": "https://localhost:8080/"
        },
        "id": "jdpPFFAZtPo3",
        "outputId": "e423a135-59c8-4d1d-d03d-2175e5a4393c"
      },
      "execution_count": null,
      "outputs": [
        {
          "output_type": "stream",
          "name": "stdout",
          "text": [
            "abcdef\n"
          ]
        }
      ]
    },
    {
      "cell_type": "markdown",
      "source": [
        "Q11. Write a code to remove all occurrences of a specific element from a list"
      ],
      "metadata": {
        "id": "8vjlzDh8tviL"
      }
    },
    {
      "cell_type": "code",
      "source": [
        "lst = [1, 2, 3, 4, 2, 5, 2, 6]\n",
        "print(\"Original list...\")\n",
        "print(lst)\n",
        "ele = int(input(\"Enter the element to remove:\"))\n",
        "for i in lst:\n",
        "  if i == ele:\n",
        "    lst.remove(i)\n",
        "\n",
        "print(\"New list...\")\n",
        "print(lst)"
      ],
      "metadata": {
        "colab": {
          "base_uri": "https://localhost:8080/"
        },
        "id": "FxecIdWWt0ej",
        "outputId": "2fcd7c7c-8669-4625-8054-be831e1d07b7"
      },
      "execution_count": null,
      "outputs": [
        {
          "output_type": "stream",
          "name": "stdout",
          "text": [
            "Original list...\n",
            "[1, 2, 3, 4, 2, 5, 2, 6]\n",
            "Enter the element to remove:2\n",
            "New list...\n",
            "[1, 3, 4, 5, 6]\n"
          ]
        }
      ]
    },
    {
      "cell_type": "markdown",
      "source": [
        "Q12. Implement a code to find the second largest number in a given list of integers"
      ],
      "metadata": {
        "id": "5cW72zKKuxBr"
      }
    },
    {
      "cell_type": "code",
      "source": [
        "lst = [2, 4, 1, 6, 3, 9]\n",
        "lst.sort()\n",
        "print(f\"Second largest element in the list is {lst[-2]}\")"
      ],
      "metadata": {
        "colab": {
          "base_uri": "https://localhost:8080/"
        },
        "id": "9TRJwwi9u04p",
        "outputId": "81cb6445-d015-4645-8a5d-3e04c9896e35"
      },
      "execution_count": null,
      "outputs": [
        {
          "output_type": "stream",
          "name": "stdout",
          "text": [
            "Second largest element in the list is 6\n"
          ]
        }
      ]
    },
    {
      "cell_type": "markdown",
      "source": [
        "Q13. Create a code to count the occurrences of each element in a list and return a dictionary with elements as keys and their counts as values"
      ],
      "metadata": {
        "id": "wWRT0F8KIn1v"
      }
    },
    {
      "cell_type": "code",
      "source": [
        "lst = [1, 1, 2, 4, 1, 6, 5, 3, 2, 4]\n",
        "dict = {}\n",
        "for i in lst:\n",
        "  if i in dict:\n",
        "    dict[i] += 1\n",
        "  else :\n",
        "    dict[i] = 1\n",
        "\n",
        "print(dict)"
      ],
      "metadata": {
        "colab": {
          "base_uri": "https://localhost:8080/"
        },
        "id": "TgDT-bjxIvPp",
        "outputId": "6963dd88-db05-4e40-ede1-fdee3a000e01"
      },
      "execution_count": null,
      "outputs": [
        {
          "output_type": "stream",
          "name": "stdout",
          "text": [
            "{1: 3, 2: 2, 4: 2, 6: 1, 5: 1, 3: 1}\n"
          ]
        }
      ]
    },
    {
      "cell_type": "markdown",
      "source": [
        "Q14. Write a code to reverse a list in-place without using any built-in reverse functions"
      ],
      "metadata": {
        "id": "7exCnY7sJ0eq"
      }
    },
    {
      "cell_type": "code",
      "source": [
        "lst = [1, 2, 3, 4, 5]\n",
        "s = 0\n",
        "e = len(lst) - 1\n",
        "while (s <= e):\n",
        "  lst[s], lst[e] = lst[e], lst[s]\n",
        "  s += 1\n",
        "  e -= 1\n",
        "\n",
        "print(f\"Reversed list is {lst}\")"
      ],
      "metadata": {
        "colab": {
          "base_uri": "https://localhost:8080/"
        },
        "id": "FEgYmHIoJ5g6",
        "outputId": "c16deaeb-4cf9-4a75-a1f0-29d60013bb16"
      },
      "execution_count": null,
      "outputs": [
        {
          "output_type": "stream",
          "name": "stdout",
          "text": [
            "Reversed list is [5, 4, 3, 2, 1]\n"
          ]
        }
      ]
    },
    {
      "cell_type": "markdown",
      "source": [
        "Q15. Implement a code to find and remove duplicates from a list while preserving the original order of elements"
      ],
      "metadata": {
        "id": "O1QL5_h3KVIf"
      }
    },
    {
      "cell_type": "code",
      "source": [
        "lst = [1, 1, 2, 4, 1, 6, 5, 3, 2, 4]\n",
        "for i in range(len(lst)):\n",
        "  j = i + 1\n",
        "  while(j < len(lst)):\n",
        "    if(lst[i] == lst[j]):\n",
        "      lst.pop(j)\n",
        "    else :\n",
        "      j += 1\n",
        "\n",
        "print(f\"The new list is {lst}\")"
      ],
      "metadata": {
        "colab": {
          "base_uri": "https://localhost:8080/"
        },
        "id": "k9nHv874KbSp",
        "outputId": "e4530a9c-cfce-4e33-dcde-96d9e81732bf"
      },
      "execution_count": null,
      "outputs": [
        {
          "output_type": "stream",
          "name": "stdout",
          "text": [
            "The new list is [1, 2, 4, 6, 5, 3]\n"
          ]
        }
      ]
    },
    {
      "cell_type": "markdown",
      "source": [
        "Q16. Create a code to check if a given list is sorted (either in ascending or descending order) or not"
      ],
      "metadata": {
        "id": "5gsDhPPjNU0J"
      }
    },
    {
      "cell_type": "code",
      "source": [
        "lst = [1, 2, 5, 7, 9, 10]\n",
        "flag = True\n",
        "for i in range(len(lst)-1):\n",
        "  if(lst[i+1] < lst[i]):\n",
        "    flag = False\n",
        "    print(\"List is not sorted\")\n",
        "    break\n",
        "\n",
        "if(flag):\n",
        "  print(\"List is sorted\")"
      ],
      "metadata": {
        "colab": {
          "base_uri": "https://localhost:8080/"
        },
        "id": "i5wSU-0cNYzD",
        "outputId": "e6d423d0-a3cd-4068-ed47-fbe324cb8298"
      },
      "execution_count": null,
      "outputs": [
        {
          "output_type": "stream",
          "name": "stdout",
          "text": [
            "List is sorted\n"
          ]
        }
      ]
    },
    {
      "cell_type": "markdown",
      "source": [
        "Q17. Write a code to merge two sorted lists into a single sorted list"
      ],
      "metadata": {
        "id": "tJz9djm5ONzw"
      }
    },
    {
      "cell_type": "code",
      "source": [
        "lst1 = [2, 4, 6, 8]\n",
        "lst2 = [3, 4, 9, 10]\n",
        "lst3 = []\n",
        "i = 0\n",
        "j = 0\n",
        "while(i < len(lst1) and j < len(lst2)):\n",
        "  if(lst1[i] <= lst2[j]):\n",
        "    lst3.append(lst1[i])\n",
        "    i += 1\n",
        "  else :\n",
        "    lst3.append(lst2[j])\n",
        "    j += 1\n",
        "\n",
        "while(i < len(lst1)):\n",
        "  lst3.append(lst1[i])\n",
        "  i += 1\n",
        "\n",
        "while(j < len(lst2)):\n",
        "  lst3.append(lst2[j])\n",
        "  j += 1\n",
        "\n",
        "print(f\"Sorted list is {lst3}\")"
      ],
      "metadata": {
        "colab": {
          "base_uri": "https://localhost:8080/"
        },
        "id": "fSgR0ITcOTNx",
        "outputId": "d87bb822-048e-400b-f460-85b9f673d0ec"
      },
      "execution_count": null,
      "outputs": [
        {
          "output_type": "stream",
          "name": "stdout",
          "text": [
            "Sorted list is [2, 3, 4, 4, 6, 8, 9, 10]\n"
          ]
        }
      ]
    },
    {
      "cell_type": "markdown",
      "source": [
        "Q18. Implement a code to find the intersection of two given lists"
      ],
      "metadata": {
        "id": "5dUGAhYbPgWG"
      }
    },
    {
      "cell_type": "code",
      "source": [
        "lst1 = [1, 2, 3, 4, 5]\n",
        "lst2 = [4, 5, 6, 7, 8]\n",
        "lst3 = []\n",
        "for i in lst1:\n",
        "  if i in lst2:\n",
        "    lst3.append(i)\n",
        "\n",
        "print(f\"Intersection of two lists is {lst3}\")"
      ],
      "metadata": {
        "colab": {
          "base_uri": "https://localhost:8080/"
        },
        "id": "ZFw44SqVPksP",
        "outputId": "0decb334-7873-40c4-9e84-2cca2446cfe0"
      },
      "execution_count": null,
      "outputs": [
        {
          "output_type": "stream",
          "name": "stdout",
          "text": [
            "Intersection of two lists is [4, 5]\n"
          ]
        }
      ]
    },
    {
      "cell_type": "markdown",
      "source": [
        "Q19. Create a code to find the union of two lists without duplicates"
      ],
      "metadata": {
        "id": "jULChCDNQEZJ"
      }
    },
    {
      "cell_type": "code",
      "source": [
        "lst1 = [1, 2, 3, 4, 5]\n",
        "lst2 = [4, 5, 6, 7, 8]\n",
        "for i in lst2:\n",
        "  lst1.append(i)\n",
        "lst1 = set(lst1)\n",
        "print(f\"Union of two lists is {lst1}\")"
      ],
      "metadata": {
        "colab": {
          "base_uri": "https://localhost:8080/"
        },
        "id": "P8lcWHt5QF_H",
        "outputId": "81efa1c5-032d-4311-e333-9bbcb534cb09"
      },
      "execution_count": null,
      "outputs": [
        {
          "output_type": "stream",
          "name": "stdout",
          "text": [
            "Union of two lists is {1, 2, 3, 4, 5, 6, 7, 8}\n"
          ]
        }
      ]
    },
    {
      "cell_type": "markdown",
      "source": [
        "Q20. Write a code to shuffle a given list randomly without using any built-in shuffle functions"
      ],
      "metadata": {
        "id": "pIOxV0xPQ47P"
      }
    },
    {
      "cell_type": "code",
      "source": [
        "import random\n",
        "lst = [1, 2, 3, 4, 5, 6, 7, 8]\n",
        "print(\"Before shuffle...\")\n",
        "print(lst)\n",
        "for i in range(len(lst)-1, 0, -1):\n",
        "  j = random.randint(0, i)\n",
        "  lst[i], lst[j] = lst[j], lst[i]\n",
        "\n",
        "print(\"After shuffle...\")\n",
        "print(lst)"
      ],
      "metadata": {
        "colab": {
          "base_uri": "https://localhost:8080/"
        },
        "id": "dEYSpVp7Q9fT",
        "outputId": "39fc8faa-4904-4a2b-e677-a19300a7fefa"
      },
      "execution_count": null,
      "outputs": [
        {
          "output_type": "stream",
          "name": "stdout",
          "text": [
            "Before shuffle...\n",
            "[1, 2, 3, 4, 5, 6, 7, 8]\n",
            "After shuffle...\n",
            "[1, 2, 4, 8, 3, 6, 7, 5]\n"
          ]
        }
      ]
    },
    {
      "cell_type": "markdown",
      "source": [
        "Q21. Write a code that takes two tuples as input and returns a new tuple containing elements that are common to both input tuples"
      ],
      "metadata": {
        "id": "9rl0U3EeSiF_"
      }
    },
    {
      "cell_type": "code",
      "source": [
        "t1 = (1, 2, 3, 4, 5)\n",
        "t2 = (4, 5, 6, 7, 8)\n",
        "t3 = []\n",
        "for i in t1:\n",
        "  if i in t2:\n",
        "    t3.append(i)\n",
        "\n",
        "t3 = tuple(t3)\n",
        "print(f\"New tuple is {t3}\")"
      ],
      "metadata": {
        "colab": {
          "base_uri": "https://localhost:8080/"
        },
        "id": "FkFe7VssSjk2",
        "outputId": "cf20f036-f707-4619-97d5-1074a3c48c25"
      },
      "execution_count": null,
      "outputs": [
        {
          "output_type": "stream",
          "name": "stdout",
          "text": [
            "New tuple is (4, 5)\n"
          ]
        }
      ]
    },
    {
      "cell_type": "markdown",
      "source": [
        "Q22. Create a code that prompts the user to enter two sets of integers separated by commas. Then, print the intersection of these two sets"
      ],
      "metadata": {
        "id": "yw1jHdLkS_-P"
      }
    },
    {
      "cell_type": "code",
      "source": [
        "s1 = input(\"Enter first set of integers separated by commas:\")\n",
        "s2 = input(\"Enter second set of integers separated by commas:\")\n",
        "s1 = set(s1.split(','))\n",
        "s2 = set(s2.split(','))\n",
        "print(f\"Intersection of two sets is {s1.intersection(s2)}\")"
      ],
      "metadata": {
        "colab": {
          "base_uri": "https://localhost:8080/"
        },
        "id": "sYMqSRCcXv1X",
        "outputId": "eeba09e0-352d-48f2-af52-7c359537ac20"
      },
      "execution_count": null,
      "outputs": [
        {
          "output_type": "stream",
          "name": "stdout",
          "text": [
            "Enter first set of integers separated by commas:1,2,3,4,5\n",
            "Enter second set of integers separated by commas:3,4,5,6,7\n",
            "Intersection of two sets is {'4', '5', '3'}\n"
          ]
        }
      ]
    },
    {
      "cell_type": "markdown",
      "source": [
        "Q23. Write a code to concatenate two tuples. The function should take two tuples as input and return a new tuple containing elements from both input tuples"
      ],
      "metadata": {
        "id": "lgh1vRvWYkOc"
      }
    },
    {
      "cell_type": "code",
      "source": [
        "t1 = input(\"Enter elemets of tuple 1 separated by commas:\")\n",
        "t2 = input(\"Enter elemets of tuple 2 separated by commas:\")\n",
        "t1 = map(int, t1.split(','))\n",
        "t2 = map(int, t2.split(','))\n",
        "t3 = []\n",
        "for i in t1:\n",
        "  t3.append(i)\n",
        "for i in t2:\n",
        "  t3.append(i)\n",
        "t3 = tuple(t3)\n",
        "print(f\"Concatenated tuple is {t3}\")"
      ],
      "metadata": {
        "colab": {
          "base_uri": "https://localhost:8080/"
        },
        "id": "L8SVUjmhYpUj",
        "outputId": "0ddbaa2d-72da-460c-ea51-7bf3b9ad47af"
      },
      "execution_count": null,
      "outputs": [
        {
          "output_type": "stream",
          "name": "stdout",
          "text": [
            "Enter elemets of tuple 1 separated by commas:1,2,4,5\n",
            "Enter elemets of tuple 2 separated by commas:6,7,9,10\n",
            "Concatenated tuple is (1, 2, 4, 5, 6, 7, 9, 10)\n"
          ]
        }
      ]
    },
    {
      "cell_type": "markdown",
      "source": [
        "Q24. Develop a code that prompts the user to input two sets of strings. Then, print the elements that are present in the first set but not in the second set"
      ],
      "metadata": {
        "id": "B-CdfXXCZnqh"
      }
    },
    {
      "cell_type": "code",
      "source": [
        "s1 = input(\"Enter the first set of strings separated by commas:\")\n",
        "s2 = input(\"Enter the second set of strings separated by commas:\")\n",
        "s1 = set(s1.split(','))\n",
        "s2 = set(s2.split(','))\n",
        "for i in s1:\n",
        "  if i not in s2:\n",
        "    print(i, end=\" \")"
      ],
      "metadata": {
        "id": "1E26mSlgZwVX",
        "colab": {
          "base_uri": "https://localhost:8080/"
        },
        "outputId": "f8bd13ea-cf03-4448-b8a2-038a969077f1"
      },
      "execution_count": null,
      "outputs": [
        {
          "output_type": "stream",
          "name": "stdout",
          "text": [
            "Enter the first set of strings separated by commas:abc,def,ghi,jkl\n",
            "Enter the second set of strings separated by commas:mno,pqr,abc,def\n",
            "ghi jkl "
          ]
        }
      ]
    },
    {
      "cell_type": "markdown",
      "source": [
        "Q25. Create a code that takes a tuple and two integers as input. The function\n",
        "should return a new tuple containing elements from the original tuple within the specified range of indices"
      ],
      "metadata": {
        "id": "NFJWcMZ-Fe8X"
      }
    },
    {
      "cell_type": "code",
      "source": [
        "t1 = input(\"Enter the elements of tuple separated by commas:\")\n",
        "t1 = map(int, t1.split(','))\n",
        "s = int(input(\"Enter the starting index:\"))\n",
        "e = int(input(\"Enter the ending index:\"))\n",
        "t2 = []\n",
        "for i in t1:\n",
        "  if(i >= s and i <= e):\n",
        "    t2.append(i)\n",
        "\n",
        "t2 = tuple(t2)\n",
        "print(f\"The new tuple is {t2}\")"
      ],
      "metadata": {
        "colab": {
          "base_uri": "https://localhost:8080/"
        },
        "id": "09QxzG6IFk5g",
        "outputId": "253e89e3-c70f-481b-c98e-fb0b529802bc"
      },
      "execution_count": null,
      "outputs": [
        {
          "output_type": "stream",
          "name": "stdout",
          "text": [
            "Enter the elements of tuple separated by commas:1,2,3,4,5,6,7,8,9\n",
            "Enter the starting index:4\n",
            "Enter the ending index:8\n",
            "The new tuple is (4, 5, 6, 7, 8)\n"
          ]
        }
      ]
    },
    {
      "cell_type": "markdown",
      "source": [
        "Q26. Write a code that prompts the user to input two sets of characters. Then, print the union of these two sets"
      ],
      "metadata": {
        "id": "AGSXiCQjGcLH"
      }
    },
    {
      "cell_type": "code",
      "source": [
        "s1 = input(\"Enter the first set of characters separated by commas:\")\n",
        "s2 = input(\"Enter the second set of characters separated by commas:\")\n",
        "s1 = set(s1.split(','))\n",
        "s2 = set(s2.split(','))\n",
        "print(f\"Union of sets is {s1.union(s2)}\")"
      ],
      "metadata": {
        "colab": {
          "base_uri": "https://localhost:8080/"
        },
        "id": "Efa2_ZDeGhjR",
        "outputId": "d14a25f2-88c9-4239-a5a1-12fe312d82f5"
      },
      "execution_count": null,
      "outputs": [
        {
          "output_type": "stream",
          "name": "stdout",
          "text": [
            "Enter the first set of characters separated by commas:a,b,c,d,e,f\n",
            "Enter the second set of characters separated by commas:b,e,w,q,c,s,a\n",
            "Union of sets is {'w', 'a', 'q', 'e', 'd', 's', 'c', 'f', 'b'}\n"
          ]
        }
      ]
    },
    {
      "cell_type": "markdown",
      "source": [
        "Q27. Develop a code that takes a tuple of integers as input. The function should return the maximum and minimum values from the tuple using tuple unpacking"
      ],
      "metadata": {
        "id": "DUyATtkxHNZV"
      }
    },
    {
      "cell_type": "code",
      "source": [
        "t1 = input(\"Enter the elements of tuple:\")\n",
        "t1 = map(int, t1.split(','))\n",
        "t1 = tuple(t1)\n",
        "max_value, min_value = max(t1), min(t1)\n",
        "print(f\"The maximum value is {max_value}\")\n",
        "print(f\"The minimum value is {min_value}\")"
      ],
      "metadata": {
        "colab": {
          "base_uri": "https://localhost:8080/"
        },
        "id": "J20_N_REHRBm",
        "outputId": "8ffb033f-19e7-4bd1-b25f-a95e54b79ba3"
      },
      "execution_count": null,
      "outputs": [
        {
          "output_type": "stream",
          "name": "stdout",
          "text": [
            "Enter the elements of tuple:5, 3, 9, 1, 7\n",
            "The maximum value is 9\n",
            "The minimum value is 1\n"
          ]
        }
      ]
    },
    {
      "cell_type": "markdown",
      "source": [
        "Q28. Create a code that defines two sets of integers. Then, print the union, intersection, and difference of these two sets"
      ],
      "metadata": {
        "id": "stNJDQBmIbqY"
      }
    },
    {
      "cell_type": "code",
      "source": [
        "s1 = {1, 2, 3, 4, 5}\n",
        "s2 = {4, 5, 6, 7, 8}\n",
        "print(f\"Union of two sets is {s1.union(s2)}\")\n",
        "print(f\"Intersection of two sets is {s1.intersection(s2)}\")\n",
        "print(f\"Difference of two sets is {s1.difference(s2)}\")"
      ],
      "metadata": {
        "colab": {
          "base_uri": "https://localhost:8080/"
        },
        "id": "o38rUNH0IfPG",
        "outputId": "ebce647e-6813-4460-df70-89b633fd1db6"
      },
      "execution_count": null,
      "outputs": [
        {
          "output_type": "stream",
          "name": "stdout",
          "text": [
            "Union of two sets is {1, 2, 3, 4, 5, 6, 7, 8}\n",
            "Intersection of two sets is {4, 5}\n",
            "Difference of two sets is {1, 2, 3}\n"
          ]
        }
      ]
    },
    {
      "cell_type": "markdown",
      "source": [
        "Q29. Write a code that takes a tuple and an element as input. The function should return the count of occurrences of the given element in the tuple"
      ],
      "metadata": {
        "id": "_YgfYaUAI_cd"
      }
    },
    {
      "cell_type": "code",
      "source": [
        "t1 = (1,2,2,2,2,4,5,9,2)\n",
        "element = 2\n",
        "cnt = 0\n",
        "for i in t1:\n",
        "  if i == element:\n",
        "    cnt += 1\n",
        "\n",
        "print(f\"The count of {element} in tuple is {cnt}\")"
      ],
      "metadata": {
        "colab": {
          "base_uri": "https://localhost:8080/"
        },
        "id": "SfqnK1cBJCt_",
        "outputId": "432fee77-8bda-4c82-c05f-fbc993f892f8"
      },
      "execution_count": null,
      "outputs": [
        {
          "output_type": "stream",
          "name": "stdout",
          "text": [
            "The count of 2 in tuple is 5\n"
          ]
        }
      ]
    },
    {
      "cell_type": "markdown",
      "source": [
        "Q30. Develop a code that prompts the user to input two sets of strings. Then, print the symmetric difference of these two sets"
      ],
      "metadata": {
        "id": "w4P-OPLQJZ8s"
      }
    },
    {
      "cell_type": "code",
      "source": [
        "s1 = input(\"Enter the first set of strings:\")\n",
        "s2 = input(\"Enter the second set of strings:\")\n",
        "s1 = set(s1.split(','))\n",
        "s2 = set(s2.split(','))\n",
        "print(f\"The symmetric difference is {s1.symmetric_difference(s2)}\")"
      ],
      "metadata": {
        "colab": {
          "base_uri": "https://localhost:8080/"
        },
        "id": "1A1D_2ovJgBa",
        "outputId": "6a678fd9-9424-4f2e-b064-beb1f0b190ba"
      },
      "execution_count": null,
      "outputs": [
        {
          "output_type": "stream",
          "name": "stdout",
          "text": [
            "Enter the first set of strings:abc,def,ghi,jkl\n",
            "Enter the second set of strings:jkl,mno,pqr,abc\n",
            "The symmetric difference is {'def', 'mno', 'ghi', 'pqr'}\n"
          ]
        }
      ]
    },
    {
      "cell_type": "markdown",
      "source": [
        "Q31. Write a code that takes a list of words as input and returns a dictionary where the keys are unique words and the values are the frequencies of those words in the input list"
      ],
      "metadata": {
        "id": "r1DseaJuKMAR"
      }
    },
    {
      "cell_type": "code",
      "source": [
        "words = ['apple', 'banana', 'apple', 'orange', 'banana', 'apple']\n",
        "words_freq = {}\n",
        "for i in words:\n",
        "  if i in words_freq.keys():\n",
        "    words_freq[i] += 1\n",
        "  else :\n",
        "    words_freq[i] = 1\n",
        "\n",
        "print(f\"The dictionary is {words_freq}\")"
      ],
      "metadata": {
        "id": "KXZLlJQPKREU",
        "colab": {
          "base_uri": "https://localhost:8080/"
        },
        "outputId": "0d5b9911-25d3-4fb7-bbb3-e7f76c01db0b"
      },
      "execution_count": null,
      "outputs": [
        {
          "output_type": "stream",
          "name": "stdout",
          "text": [
            "The dictionary is {'apple': 3, 'banana': 2, 'orange': 1}\n"
          ]
        }
      ]
    },
    {
      "cell_type": "markdown",
      "source": [
        "Q32. Write a code that takes two dictionaries as input and merges them into a single dictionary. If there are common keys, the values should be added together"
      ],
      "metadata": {
        "id": "KwJpVqrDyX9E"
      }
    },
    {
      "cell_type": "code",
      "source": [
        "dict1 = {'apple': 5, 'banana': 3, 'orange': 2}\n",
        "dict2 = {'banana': 2, 'orange': 4, 'grape': 6}\n",
        "dict3 = {}\n",
        "for i in dict1:\n",
        "  dict3[i] = dict1[i]\n",
        "for i in dict2:\n",
        "  if i in dict3:\n",
        "    dict3[i] += dict2[i]\n",
        "  else :\n",
        "    dict3[i] = dict2[i]\n",
        "print(dict3)"
      ],
      "metadata": {
        "colab": {
          "base_uri": "https://localhost:8080/"
        },
        "id": "LOyUOdPFyb-p",
        "outputId": "4b757488-efc4-4fd0-8bfc-0e62c7c449b7"
      },
      "execution_count": null,
      "outputs": [
        {
          "output_type": "stream",
          "name": "stdout",
          "text": [
            "{'apple': 5, 'banana': 5, 'orange': 6, 'grape': 6}\n"
          ]
        }
      ]
    },
    {
      "cell_type": "markdown",
      "source": [
        "Q33. Write a code to access a value in a nested dictionary. The function should take the dictionary and a list of keys as input, and return the corresponding value. If any of the keys do not exist in the dictionary, the function should return None"
      ],
      "metadata": {
        "id": "RGpnRiFaUbXw"
      }
    },
    {
      "cell_type": "code",
      "source": [
        "def get_value(nested_dict, keys):\n",
        "  current_dict = nested_dict\n",
        "  for key in keys:\n",
        "    if isinstance(current_dict, dict) and key in current_dict:\n",
        "      current_dict = current_dict[key]\n",
        "    else :\n",
        "      return None\n",
        "  return current_dict\n",
        "\n",
        "\n",
        "nested_dict = {'a' : {'b' : {'c' : 42}}}\n",
        "keys = ['a', 'b', 'c']\n",
        "print(get_value(nested_dict, keys))\n",
        "keys = ['a', 'b', 'd']\n",
        "print(get_value(nested_dict, keys))"
      ],
      "metadata": {
        "colab": {
          "base_uri": "https://localhost:8080/"
        },
        "id": "3JbUQH59UhsS",
        "outputId": "f9aad23a-fa20-48a0-b4f3-b1e8d74d1b23"
      },
      "execution_count": null,
      "outputs": [
        {
          "output_type": "stream",
          "name": "stdout",
          "text": [
            "42\n",
            "None\n"
          ]
        }
      ]
    },
    {
      "cell_type": "markdown",
      "source": [
        "Q34. Write a code that takes a dictionary as input and returns a sorted version of it based on the values. You can choose whether to sort in ascending or descending order"
      ],
      "metadata": {
        "id": "fQw9fTK9apsJ"
      }
    },
    {
      "cell_type": "code",
      "source": [
        "def sort_dict_by_values(d, ascending=True):\n",
        "    sorted_dict = dict(sorted(d.items(), key=lambda item: item[1], reverse=not ascending))\n",
        "    return sorted_dict\n",
        "\n",
        "my_dict = {'apple': 5, 'banana': 2, 'orange': 8, 'grape': 1}\n",
        "print(sort_dict_by_values(my_dict, ascending=True))"
      ],
      "metadata": {
        "colab": {
          "base_uri": "https://localhost:8080/"
        },
        "id": "7-3hNIywau_p",
        "outputId": "edb485b7-90b7-484d-a150-c2723b800130"
      },
      "execution_count": null,
      "outputs": [
        {
          "output_type": "stream",
          "name": "stdout",
          "text": [
            "{'grape': 1, 'banana': 2, 'apple': 5, 'orange': 8}\n"
          ]
        }
      ]
    },
    {
      "cell_type": "markdown",
      "source": [
        "Q35. Write a code that inverts a dictionary, swapping keys and values. Ensure that the inverted dictionary correctly handles cases where multiple keys have the same value by storing the keys as a list in the inverted dictionary"
      ],
      "metadata": {
        "id": "L9faFceCcLcL"
      }
    },
    {
      "cell_type": "code",
      "source": [
        "def invert_dict(d):\n",
        "    inverted_dict = {}\n",
        "    for key, value in d.items():\n",
        "        if value in inverted_dict:\n",
        "            inverted_dict[value].append(key)\n",
        "        else:\n",
        "            inverted_dict[value] = [key]\n",
        "    return inverted_dict\n",
        "\n",
        "my_dict = {'apple': 5, 'banana': 2, 'orange': 5, 'grape': 1}\n",
        "inverted = invert_dict(my_dict)\n",
        "print(inverted)"
      ],
      "metadata": {
        "colab": {
          "base_uri": "https://localhost:8080/"
        },
        "id": "w0a2KF1scRTz",
        "outputId": "87d77c5f-2846-45f8-d6e3-f6370e4c85e0"
      },
      "execution_count": null,
      "outputs": [
        {
          "output_type": "stream",
          "name": "stdout",
          "text": [
            "{5: ['apple', 'orange'], 2: ['banana'], 1: ['grape']}\n"
          ]
        }
      ]
    }
  ]
}